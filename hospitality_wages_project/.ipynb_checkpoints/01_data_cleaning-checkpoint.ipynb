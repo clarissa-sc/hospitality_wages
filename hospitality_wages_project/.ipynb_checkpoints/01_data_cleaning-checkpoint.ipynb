{
 "cells": [
  {
   "cell_type": "markdown",
   "id": "9b0e111a",
   "metadata": {},
   "source": [
    "## “Working Hard, Earning Less? A Look at Hospitality Wages in Ireland”\n",
    "\n",
    "\n",
    "###  Project Goals\n",
    "\n",
    "\n",
    "This project is intended for my portfolio to demonstrate data cleaning, EDA and storytelling with real government data. \n",
    "As a hospitality worker myself, this project comes with a personal deal out of curiosity to investigate how far our industry is from the national average of earning/income levels over the years. \n",
    "\n",
    "These are the main questions this project aims to answer: \n",
    "\n",
    "- How have average weekly earnings in the hospitality sector changed over the last 10 years?\n",
    "\n",
    "- Do wage increases keep up with inflation (e.g. Consumer Price Index)?\n",
    "\n",
    "And the two bonus questions I'll try to investigate a bit: \n",
    "\n",
    "- How do hospitality wages compare to other sectors (e.g. finance, education)? (maybe, if i find the data? )\n",
    "\n",
    "- Has the wage gap between sectors increased or decreased?\n",
    "\n",
    "### Data sources: \n",
    "\n",
    "- **CSO – EHQ03 / EHQ12 / EHA04** (selected statistics): Average Weekly Earnings, Average Hourly Earnings, Average Weekly Paid Hours (Quarterly / Annual).  \n",
    "  *Access via CSO StatBank – search table `EHQ03` (Average Earnings, Hours Worked, Employment and Labour Costs).*\n",
    "- **CSO – CPI** (for inflation adjustment) — table `CPM12` or equivalent.The main source of data used for this project is the CSO\n",
    "\n",
    "**Filters used for analysis**\n",
    "- Metrics: `Average Weekly Earnings (Euro)`, `Average Hourly Earnings (Euro)`, `Average Weekly Paid Hours (Hours)`\n",
    "- Sectors: `Accommodation and food service activities (I)` and `All NACE economic sectors`\n",
    "- Period: 2008Q1 – 2025Q1 (quarterly) / 2008 – 2024 (annual where applicable)\n",
    "\n",
    "\n",
    "### Version control - Github \n",
    "Tis project will also be uploaded to my portfolio!\n",
    "\n",
    "https://github.com/clarissa-sc/hospitality_wages\n",
    "\n"
   ]
  },
  {
   "cell_type": "markdown",
   "id": "1a113487",
   "metadata": {},
   "source": [
    "### 📡 Importing libraries\n"
   ]
  },
  {
   "cell_type": "code",
   "execution_count": 1,
   "id": "943b4429",
   "metadata": {},
   "outputs": [],
   "source": [
    "\n",
    "import pandas as pd #dataframes \n",
    "import numpy as np #linear algebra\n",
    "##import seaborn as sns #visualisation\n",
    "##sns.set(color_codes=True)\n"
   ]
  },
  {
   "cell_type": "markdown",
   "id": "695dd413",
   "metadata": {},
   "source": [
    "## 1. Introduction \n",
    "\n",
    "In this section, I’ll prepare the CSO dataset for analysis by checking for missing values, formatting dates, and standardizing column names\n"
   ]
  },
  {
   "cell_type": "markdown",
   "id": "7ef579bf",
   "metadata": {},
   "source": [
    "### 1.1 Loading data from CSO\n",
    "\n",
    "From the CSO database\n",
    "Average Earnings, Hours Worked, Employment and Labour Costs (EHQ03) \n",
    "\n",
    "Quarterly - 2008Q1 - 2025Q1\n",
    "\n",
    "Divided by economyc sectors and filtered by- **Accommodation and food service activities (I) & All NACE economic sectors**\n",
    "\n",
    "Filtered by: \n",
    " - Average Weekly Earnings\n",
    " - Average Hourly Earnings\n",
    " - Average Weekly Paid Hours\n",
    " \n",
    " The goal is to compare the Accommodation and food service activities (I) (refered to hospitality workers) to the national average of all sectors. We will investigate how far from the national average the hospitality wages are.\n",
    " \n",
    " \"Wage gap analysis: Weekly & hourly pay gap between hospitality and all sectors.\" "
   ]
  },
  {
   "cell_type": "code",
   "execution_count": 8,
   "id": "1b824f1d",
   "metadata": {},
   "outputs": [
    {
     "data": {
      "text/html": [
       "<div>\n",
       "<style scoped>\n",
       "    .dataframe tbody tr th:only-of-type {\n",
       "        vertical-align: middle;\n",
       "    }\n",
       "\n",
       "    .dataframe tbody tr th {\n",
       "        vertical-align: top;\n",
       "    }\n",
       "\n",
       "    .dataframe thead th {\n",
       "        text-align: right;\n",
       "    }\n",
       "</style>\n",
       "<table border=\"1\" class=\"dataframe\">\n",
       "  <thead>\n",
       "    <tr style=\"text-align: right;\">\n",
       "      <th></th>\n",
       "      <th>Statistic Label</th>\n",
       "      <th>Quarter</th>\n",
       "      <th>Economic Sector NACE Rev 2</th>\n",
       "      <th>Type of Employee</th>\n",
       "      <th>UNIT</th>\n",
       "      <th>VALUE</th>\n",
       "    </tr>\n",
       "  </thead>\n",
       "  <tbody>\n",
       "    <tr>\n",
       "      <th>0</th>\n",
       "      <td>Average Weekly Earnings</td>\n",
       "      <td>2008Q1</td>\n",
       "      <td>All NACE economic sectors</td>\n",
       "      <td>All employees</td>\n",
       "      <td>Euro</td>\n",
       "      <td>704.60</td>\n",
       "    </tr>\n",
       "    <tr>\n",
       "      <th>1</th>\n",
       "      <td>Average Weekly Earnings</td>\n",
       "      <td>2008Q1</td>\n",
       "      <td>Accommodation and food service activities (I)</td>\n",
       "      <td>All employees</td>\n",
       "      <td>Euro</td>\n",
       "      <td>347.53</td>\n",
       "    </tr>\n",
       "    <tr>\n",
       "      <th>2</th>\n",
       "      <td>Average Weekly Earnings</td>\n",
       "      <td>2008Q2</td>\n",
       "      <td>All NACE economic sectors</td>\n",
       "      <td>All employees</td>\n",
       "      <td>Euro</td>\n",
       "      <td>705.28</td>\n",
       "    </tr>\n",
       "    <tr>\n",
       "      <th>3</th>\n",
       "      <td>Average Weekly Earnings</td>\n",
       "      <td>2008Q2</td>\n",
       "      <td>Accommodation and food service activities (I)</td>\n",
       "      <td>All employees</td>\n",
       "      <td>Euro</td>\n",
       "      <td>346.15</td>\n",
       "    </tr>\n",
       "    <tr>\n",
       "      <th>4</th>\n",
       "      <td>Average Weekly Earnings</td>\n",
       "      <td>2008Q3</td>\n",
       "      <td>All NACE economic sectors</td>\n",
       "      <td>All employees</td>\n",
       "      <td>Euro</td>\n",
       "      <td>696.11</td>\n",
       "    </tr>\n",
       "    <tr>\n",
       "      <th>5</th>\n",
       "      <td>Average Weekly Earnings</td>\n",
       "      <td>2008Q3</td>\n",
       "      <td>Accommodation and food service activities (I)</td>\n",
       "      <td>All employees</td>\n",
       "      <td>Euro</td>\n",
       "      <td>350.46</td>\n",
       "    </tr>\n",
       "    <tr>\n",
       "      <th>6</th>\n",
       "      <td>Average Weekly Earnings</td>\n",
       "      <td>2008Q4</td>\n",
       "      <td>All NACE economic sectors</td>\n",
       "      <td>All employees</td>\n",
       "      <td>Euro</td>\n",
       "      <td>721.89</td>\n",
       "    </tr>\n",
       "    <tr>\n",
       "      <th>7</th>\n",
       "      <td>Average Weekly Earnings</td>\n",
       "      <td>2008Q4</td>\n",
       "      <td>Accommodation and food service activities (I)</td>\n",
       "      <td>All employees</td>\n",
       "      <td>Euro</td>\n",
       "      <td>348.21</td>\n",
       "    </tr>\n",
       "    <tr>\n",
       "      <th>8</th>\n",
       "      <td>Average Weekly Earnings</td>\n",
       "      <td>2009Q1</td>\n",
       "      <td>All NACE economic sectors</td>\n",
       "      <td>All employees</td>\n",
       "      <td>Euro</td>\n",
       "      <td>709.55</td>\n",
       "    </tr>\n",
       "    <tr>\n",
       "      <th>9</th>\n",
       "      <td>Average Weekly Earnings</td>\n",
       "      <td>2009Q1</td>\n",
       "      <td>Accommodation and food service activities (I)</td>\n",
       "      <td>All employees</td>\n",
       "      <td>Euro</td>\n",
       "      <td>332.98</td>\n",
       "    </tr>\n",
       "  </tbody>\n",
       "</table>\n",
       "</div>"
      ],
      "text/plain": [
       "           Statistic Label Quarter  \\\n",
       "0  Average Weekly Earnings  2008Q1   \n",
       "1  Average Weekly Earnings  2008Q1   \n",
       "2  Average Weekly Earnings  2008Q2   \n",
       "3  Average Weekly Earnings  2008Q2   \n",
       "4  Average Weekly Earnings  2008Q3   \n",
       "5  Average Weekly Earnings  2008Q3   \n",
       "6  Average Weekly Earnings  2008Q4   \n",
       "7  Average Weekly Earnings  2008Q4   \n",
       "8  Average Weekly Earnings  2009Q1   \n",
       "9  Average Weekly Earnings  2009Q1   \n",
       "\n",
       "                      Economic Sector NACE Rev 2 Type of Employee  UNIT  \\\n",
       "0                      All NACE economic sectors    All employees  Euro   \n",
       "1  Accommodation and food service activities (I)    All employees  Euro   \n",
       "2                      All NACE economic sectors    All employees  Euro   \n",
       "3  Accommodation and food service activities (I)    All employees  Euro   \n",
       "4                      All NACE economic sectors    All employees  Euro   \n",
       "5  Accommodation and food service activities (I)    All employees  Euro   \n",
       "6                      All NACE economic sectors    All employees  Euro   \n",
       "7  Accommodation and food service activities (I)    All employees  Euro   \n",
       "8                      All NACE economic sectors    All employees  Euro   \n",
       "9  Accommodation and food service activities (I)    All employees  Euro   \n",
       "\n",
       "    VALUE  \n",
       "0  704.60  \n",
       "1  347.53  \n",
       "2  705.28  \n",
       "3  346.15  \n",
       "4  696.11  \n",
       "5  350.46  \n",
       "6  721.89  \n",
       "7  348.21  \n",
       "8  709.55  \n",
       "9  332.98  "
      ]
     },
     "execution_count": 8,
     "metadata": {},
     "output_type": "execute_result"
    }
   ],
   "source": [
    "\n",
    "# Load the dataset\n",
    "df = pd.read_csv(\"/Users/clarissacardoso/Desktop/hospitality_wages/hospitality_wages_project/data/raw/EHQ03.20250810T200815.csv\")  # or .read_excel(\"cso_wages.xlsx\")\n",
    "\n",
    "# Look at the first 5 rows\n",
    "df.head(10)"
   ]
  },
  {
   "cell_type": "markdown",
   "id": "485175ee",
   "metadata": {},
   "source": [
    "### 1.2 First glance at the data\n",
    "\n",
    "Checking the basics presented in this dataser: its shape, datatypes, column names\n"
   ]
  },
  {
   "cell_type": "code",
   "execution_count": 4,
   "id": "6d589d00",
   "metadata": {},
   "outputs": [
    {
     "name": "stdout",
     "output_type": "stream",
     "text": [
      "<class 'pandas.core.frame.DataFrame'>\n",
      "RangeIndex: 414 entries, 0 to 413\n",
      "Data columns (total 6 columns):\n",
      " #   Column                      Non-Null Count  Dtype  \n",
      "---  ------                      --------------  -----  \n",
      " 0   Statistic Label             414 non-null    object \n",
      " 1   Quarter                     414 non-null    object \n",
      " 2   Economic Sector NACE Rev 2  414 non-null    object \n",
      " 3   Type of Employee            414 non-null    object \n",
      " 4   UNIT                        414 non-null    object \n",
      " 5   VALUE                       414 non-null    float64\n",
      "dtypes: float64(1), object(5)\n",
      "memory usage: 19.5+ KB\n"
     ]
    }
   ],
   "source": [
    "df.info() # Data types and null values"
   ]
  },
  {
   "cell_type": "markdown",
   "id": "162fd691",
   "metadata": {},
   "source": [
    "- 6 columns\n",
    "- 414 non-null observations\n",
    "Data types vary between objects (text data) and floats\n",
    "\n",
    "\n"
   ]
  },
  {
   "cell_type": "code",
   "execution_count": 5,
   "id": "5452ede3",
   "metadata": {},
   "outputs": [
    {
     "name": "stdout",
     "output_type": "stream",
     "text": [
      "Shape: (414, 6)\n",
      "Columns: Index(['Statistic Label', 'Quarter', 'Economic Sector NACE Rev 2',\n",
      "       'Type of Employee', 'UNIT', 'VALUE'],\n",
      "      dtype='object')\n",
      "             VALUE\n",
      "count   414.000000\n",
      "mean    203.271208\n",
      "std     283.393851\n",
      "min      11.880000\n",
      "25%      22.387500\n",
      "50%      30.950000\n",
      "75%     342.242500\n",
      "max    1026.200000\n"
     ]
    }
   ],
   "source": [
    "# Dimensions of dataset\n",
    "print(\"Shape:\", df.shape) # how many rows/columns\n",
    "\n",
    "# Column names\n",
    "print(\"Columns:\", df.columns)\n",
    "\n",
    "\n",
    "# Quick statistics for numeric columns\n",
    "print(df.describe())"
   ]
  },
  {
   "cell_type": "markdown",
   "id": "0b7fca97",
   "metadata": {},
   "source": [
    "\n",
    "### 2. Checking for missing values\n"
   ]
  },
  {
   "cell_type": "code",
   "execution_count": 6,
   "id": "f3b5f5fa",
   "metadata": {},
   "outputs": [
    {
     "data": {
      "text/plain": [
       "Statistic Label               0\n",
       "Quarter                       0\n",
       "Economic Sector NACE Rev 2    0\n",
       "Type of Employee              0\n",
       "UNIT                          0\n",
       "VALUE                         0\n",
       "dtype: int64"
      ]
     },
     "execution_count": 6,
     "metadata": {},
     "output_type": "execute_result"
    }
   ],
   "source": [
    "df.isnull().sum()\n"
   ]
  },
  {
   "cell_type": "markdown",
   "id": "748317d1",
   "metadata": {},
   "source": [
    "At a first glance, seems like no data is missing from the rows. However, "
   ]
  },
  {
   "cell_type": "code",
   "execution_count": 7,
   "id": "5152ec3d",
   "metadata": {},
   "outputs": [
    {
     "name": "stdout",
     "output_type": "stream",
     "text": [
      "Statistic Label               0\n",
      "Quarter                       0\n",
      "Economic Sector NACE Rev 2    0\n",
      "Type of Employee              0\n",
      "UNIT                          0\n",
      "VALUE                         0\n",
      "dtype: int64\n"
     ]
    }
   ],
   "source": [
    "# check missing values\n",
    "\n",
    "print(df.isna().sum())"
   ]
  },
  {
   "cell_type": "markdown",
   "id": "1f762eb9",
   "metadata": {},
   "source": [
    "### 3. Fix Data Types"
   ]
  },
  {
   "cell_type": "code",
   "execution_count": 12,
   "id": "5d6ea123",
   "metadata": {},
   "outputs": [
    {
     "name": "stdout",
     "output_type": "stream",
     "text": [
      "\n",
      "Updated column names and types:\n",
      "Statistic_Label            object\n",
      "Quarter            datetime64[ns]\n",
      "Economic_Sector            object\n",
      "Employee_Type              object\n",
      "UNIT                       object\n",
      "VALUE                     float64\n",
      "dtype: object\n"
     ]
    },
    {
     "data": {
      "text/html": [
       "<div>\n",
       "<style scoped>\n",
       "    .dataframe tbody tr th:only-of-type {\n",
       "        vertical-align: middle;\n",
       "    }\n",
       "\n",
       "    .dataframe tbody tr th {\n",
       "        vertical-align: top;\n",
       "    }\n",
       "\n",
       "    .dataframe thead th {\n",
       "        text-align: right;\n",
       "    }\n",
       "</style>\n",
       "<table border=\"1\" class=\"dataframe\">\n",
       "  <thead>\n",
       "    <tr style=\"text-align: right;\">\n",
       "      <th></th>\n",
       "      <th>Statistic_Label</th>\n",
       "      <th>Quarter</th>\n",
       "      <th>Economic_Sector</th>\n",
       "      <th>Employee_Type</th>\n",
       "      <th>UNIT</th>\n",
       "      <th>VALUE</th>\n",
       "    </tr>\n",
       "  </thead>\n",
       "  <tbody>\n",
       "    <tr>\n",
       "      <th>0</th>\n",
       "      <td>Average Weekly Earnings</td>\n",
       "      <td>2008-01-01</td>\n",
       "      <td>All NACE economic sectors</td>\n",
       "      <td>All employees</td>\n",
       "      <td>Euro</td>\n",
       "      <td>704.60</td>\n",
       "    </tr>\n",
       "    <tr>\n",
       "      <th>1</th>\n",
       "      <td>Average Weekly Earnings</td>\n",
       "      <td>2008-01-01</td>\n",
       "      <td>Accommodation and food service activities (I)</td>\n",
       "      <td>All employees</td>\n",
       "      <td>Euro</td>\n",
       "      <td>347.53</td>\n",
       "    </tr>\n",
       "    <tr>\n",
       "      <th>2</th>\n",
       "      <td>Average Weekly Earnings</td>\n",
       "      <td>2008-04-01</td>\n",
       "      <td>All NACE economic sectors</td>\n",
       "      <td>All employees</td>\n",
       "      <td>Euro</td>\n",
       "      <td>705.28</td>\n",
       "    </tr>\n",
       "    <tr>\n",
       "      <th>3</th>\n",
       "      <td>Average Weekly Earnings</td>\n",
       "      <td>2008-04-01</td>\n",
       "      <td>Accommodation and food service activities (I)</td>\n",
       "      <td>All employees</td>\n",
       "      <td>Euro</td>\n",
       "      <td>346.15</td>\n",
       "    </tr>\n",
       "    <tr>\n",
       "      <th>4</th>\n",
       "      <td>Average Weekly Earnings</td>\n",
       "      <td>2008-07-01</td>\n",
       "      <td>All NACE economic sectors</td>\n",
       "      <td>All employees</td>\n",
       "      <td>Euro</td>\n",
       "      <td>696.11</td>\n",
       "    </tr>\n",
       "  </tbody>\n",
       "</table>\n",
       "</div>"
      ],
      "text/plain": [
       "           Statistic_Label    Quarter  \\\n",
       "0  Average Weekly Earnings 2008-01-01   \n",
       "1  Average Weekly Earnings 2008-01-01   \n",
       "2  Average Weekly Earnings 2008-04-01   \n",
       "3  Average Weekly Earnings 2008-04-01   \n",
       "4  Average Weekly Earnings 2008-07-01   \n",
       "\n",
       "                                 Economic_Sector  Employee_Type  UNIT   VALUE  \n",
       "0                      All NACE economic sectors  All employees  Euro  704.60  \n",
       "1  Accommodation and food service activities (I)  All employees  Euro  347.53  \n",
       "2                      All NACE economic sectors  All employees  Euro  705.28  \n",
       "3  Accommodation and food service activities (I)  All employees  Euro  346.15  \n",
       "4                      All NACE economic sectors  All employees  Euro  696.11  "
      ]
     },
     "execution_count": 12,
     "metadata": {},
     "output_type": "execute_result"
    }
   ],
   "source": [
    "# 1. Strip whitespace from text columns\n",
    "df = df.apply(lambda col: col.str.strip() if col.dtype == \"object\" else col)\n",
    "\n",
    "# 2. Convert 'Quarter' to datetime (first day of the quarter)\n",
    "df['Quarter'] = pd.PeriodIndex(df['Quarter'], freq='Q').to_timestamp()\n",
    "\n",
    "# 3. Ensure 'VALUE' is numeric\n",
    "df['VALUE'] = pd.to_numeric(df['VALUE'], errors='coerce')\n",
    "\n",
    "# 4. (Optional) Rename columns to be easier to type\n",
    "df.rename(columns={\n",
    "    'Statistic Label': 'Statistic_Label',\n",
    "    'Economic Sector NACE Rev 2': 'Economic_Sector',\n",
    "    'Type of Employee': 'Employee_Type'\n",
    "}, inplace=True)\n",
    "\n",
    "\n",
    "print(\"\\nUpdated column names and types:\")\n",
    "print(df.dtypes)\n",
    "\n",
    "# Check updated dtypes\n",
    "#print(df.dtypes)\n",
    "\n",
    "# Quick look\n",
    "df.head()"
   ]
  },
  {
   "cell_type": "code",
   "execution_count": 10,
   "id": "2d5c3886",
   "metadata": {},
   "outputs": [
    {
     "name": "stdout",
     "output_type": "stream",
     "text": [
      "<class 'pandas.core.frame.DataFrame'>\n",
      "RangeIndex: 414 entries, 0 to 413\n",
      "Data columns (total 6 columns):\n",
      " #   Column           Non-Null Count  Dtype         \n",
      "---  ------           --------------  -----         \n",
      " 0   Statistic_Label  414 non-null    object        \n",
      " 1   Quarter          414 non-null    datetime64[ns]\n",
      " 2   Economic_Sector  414 non-null    object        \n",
      " 3   Employee_Type    414 non-null    object        \n",
      " 4   UNIT             414 non-null    object        \n",
      " 5   VALUE            414 non-null    float64       \n",
      "dtypes: datetime64[ns](1), float64(1), object(4)\n",
      "memory usage: 19.5+ KB\n"
     ]
    }
   ],
   "source": [
    "df.info()"
   ]
  },
  {
   "cell_type": "code",
   "execution_count": 13,
   "id": "f8f6d7d7",
   "metadata": {},
   "outputs": [
    {
     "data": {
      "text/html": [
       "<div>\n",
       "<style scoped>\n",
       "    .dataframe tbody tr th:only-of-type {\n",
       "        vertical-align: middle;\n",
       "    }\n",
       "\n",
       "    .dataframe tbody tr th {\n",
       "        vertical-align: top;\n",
       "    }\n",
       "\n",
       "    .dataframe thead th {\n",
       "        text-align: right;\n",
       "    }\n",
       "</style>\n",
       "<table border=\"1\" class=\"dataframe\">\n",
       "  <thead>\n",
       "    <tr style=\"text-align: right;\">\n",
       "      <th></th>\n",
       "      <th>VALUE</th>\n",
       "    </tr>\n",
       "  </thead>\n",
       "  <tbody>\n",
       "    <tr>\n",
       "      <th>count</th>\n",
       "      <td>414.000000</td>\n",
       "    </tr>\n",
       "    <tr>\n",
       "      <th>mean</th>\n",
       "      <td>203.271208</td>\n",
       "    </tr>\n",
       "    <tr>\n",
       "      <th>std</th>\n",
       "      <td>283.393851</td>\n",
       "    </tr>\n",
       "    <tr>\n",
       "      <th>min</th>\n",
       "      <td>11.880000</td>\n",
       "    </tr>\n",
       "    <tr>\n",
       "      <th>25%</th>\n",
       "      <td>22.387500</td>\n",
       "    </tr>\n",
       "    <tr>\n",
       "      <th>50%</th>\n",
       "      <td>30.950000</td>\n",
       "    </tr>\n",
       "    <tr>\n",
       "      <th>75%</th>\n",
       "      <td>342.242500</td>\n",
       "    </tr>\n",
       "    <tr>\n",
       "      <th>max</th>\n",
       "      <td>1026.200000</td>\n",
       "    </tr>\n",
       "  </tbody>\n",
       "</table>\n",
       "</div>"
      ],
      "text/plain": [
       "             VALUE\n",
       "count   414.000000\n",
       "mean    203.271208\n",
       "std     283.393851\n",
       "min      11.880000\n",
       "25%      22.387500\n",
       "50%      30.950000\n",
       "75%     342.242500\n",
       "max    1026.200000"
      ]
     },
     "execution_count": 13,
     "metadata": {},
     "output_type": "execute_result"
    }
   ],
   "source": [
    "df.describe()"
   ]
  },
  {
   "cell_type": "code",
   "execution_count": null,
   "id": "785bc3f1",
   "metadata": {},
   "outputs": [],
   "source": []
  }
 ],
 "metadata": {
  "kernelspec": {
   "display_name": "Python 3 (ipykernel)",
   "language": "python",
   "name": "python3"
  },
  "language_info": {
   "codemirror_mode": {
    "name": "ipython",
    "version": 3
   },
   "file_extension": ".py",
   "mimetype": "text/x-python",
   "name": "python",
   "nbconvert_exporter": "python",
   "pygments_lexer": "ipython3",
   "version": "3.10.9"
  }
 },
 "nbformat": 4,
 "nbformat_minor": 5
}
